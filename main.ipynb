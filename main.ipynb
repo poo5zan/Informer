{
 "cells": [
  {
   "cell_type": "code",
   "execution_count": 14,
   "metadata": {},
   "outputs": [
    {
     "data": {
      "text/html": [
       "<div>\n",
       "<style scoped>\n",
       "    .dataframe tbody tr th:only-of-type {\n",
       "        vertical-align: middle;\n",
       "    }\n",
       "\n",
       "    .dataframe tbody tr th {\n",
       "        vertical-align: top;\n",
       "    }\n",
       "\n",
       "    .dataframe thead th {\n",
       "        text-align: right;\n",
       "    }\n",
       "</style>\n",
       "<table border=\"1\" class=\"dataframe\">\n",
       "  <thead>\n",
       "    <tr style=\"text-align: right;\">\n",
       "      <th></th>\n",
       "      <th>mae</th>\n",
       "      <th>mse</th>\n",
       "      <th>rmse</th>\n",
       "      <th>mape</th>\n",
       "      <th>mspe</th>\n",
       "      <th>run</th>\n",
       "    </tr>\n",
       "  </thead>\n",
       "  <tbody>\n",
       "    <tr>\n",
       "      <th>0</th>\n",
       "      <td>0.001670</td>\n",
       "      <td>0.000005</td>\n",
       "      <td>0.002344</td>\n",
       "      <td>0.605617</td>\n",
       "      <td>0.659633</td>\n",
       "      <td>targets only input</td>\n",
       "    </tr>\n",
       "    <tr>\n",
       "      <th>1</th>\n",
       "      <td>0.061385</td>\n",
       "      <td>0.008645</td>\n",
       "      <td>0.092978</td>\n",
       "      <td>0.343110</td>\n",
       "      <td>0.286393</td>\n",
       "      <td>TCN input</td>\n",
       "    </tr>\n",
       "    <tr>\n",
       "      <th>2</th>\n",
       "      <td>0.001867</td>\n",
       "      <td>0.000007</td>\n",
       "      <td>0.002557</td>\n",
       "      <td>0.601401</td>\n",
       "      <td>0.663433</td>\n",
       "      <td>lob features input</td>\n",
       "    </tr>\n",
       "  </tbody>\n",
       "</table>\n",
       "</div>"
      ],
      "text/plain": [
       "        mae       mse      rmse      mape      mspe                 run\n",
       "0  0.001670  0.000005  0.002344  0.605617  0.659633  targets only input\n",
       "1  0.061385  0.008645  0.092978  0.343110  0.286393           TCN input\n",
       "2  0.001867  0.000007  0.002557  0.601401  0.663433  lob features input"
      ]
     },
     "execution_count": 14,
     "metadata": {},
     "output_type": "execute_result"
    }
   ],
   "source": [
    "# display error metrics\n",
    "# Informer metrics\n",
    "import pandas as pd\n",
    "run_1_df = pd.read_csv('./results/run_1_informer_custom_ftM_sl96_ll48_pl24_dm512_nh8_el2_dl1_df2048_atprob_fc1_ebfixed_dtTrue_mxTrue_exp_0/error_metrics.csv')\n",
    "run_1_df['run'] = 'targets only input'\n",
    "run_2_df = pd.read_csv('./results/run_2_informer_custom_ftM_sl96_ll48_pl24_dm512_nh8_el2_dl1_df2048_atprob_fc1_ebfixed_dtTrue_mxTrue_exp_0/error_metrics.csv')\n",
    "run_2_df['run'] = 'TCN input'\n",
    "run_3_df = pd.read_csv('./results/run_3_informer_custom_ftMS_sl96_ll48_pl24_dm512_nh8_el2_dl1_df2048_atprob_fc1_ebfixed_dtTrue_mxTrue_exp_0/error_metrics.csv')\n",
    "run_3_df['run'] = 'lob features input'\n",
    "informer_metrics_df = pd.concat([run_1_df, run_2_df, run_3_df], ignore_index=True)\n",
    "informer_metrics_df"
   ]
  },
  {
   "cell_type": "code",
   "execution_count": 18,
   "metadata": {},
   "outputs": [
    {
     "data": {
      "text/html": [
       "<div>\n",
       "<style scoped>\n",
       "    .dataframe tbody tr th:only-of-type {\n",
       "        vertical-align: middle;\n",
       "    }\n",
       "\n",
       "    .dataframe tbody tr th {\n",
       "        vertical-align: top;\n",
       "    }\n",
       "\n",
       "    .dataframe thead th {\n",
       "        text-align: right;\n",
       "    }\n",
       "</style>\n",
       "<table border=\"1\" class=\"dataframe\">\n",
       "  <thead>\n",
       "    <tr style=\"text-align: right;\">\n",
       "      <th></th>\n",
       "      <th>mae</th>\n",
       "      <th>mse</th>\n",
       "      <th>rmse</th>\n",
       "      <th>mape</th>\n",
       "      <th>mspe</th>\n",
       "      <th>run</th>\n",
       "    </tr>\n",
       "  </thead>\n",
       "  <tbody>\n",
       "    <tr>\n",
       "      <th>0</th>\n",
       "      <td>0.614266</td>\n",
       "      <td>0.788697</td>\n",
       "      <td>0.888086</td>\n",
       "      <td>1.596915</td>\n",
       "      <td>261.610660</td>\n",
       "      <td>targets only input</td>\n",
       "    </tr>\n",
       "    <tr>\n",
       "      <th>1</th>\n",
       "      <td>0.774085</td>\n",
       "      <td>1.010896</td>\n",
       "      <td>1.005433</td>\n",
       "      <td>1.494357</td>\n",
       "      <td>85.359505</td>\n",
       "      <td>TCN input</td>\n",
       "    </tr>\n",
       "    <tr>\n",
       "      <th>2</th>\n",
       "      <td>0.628971</td>\n",
       "      <td>0.752193</td>\n",
       "      <td>0.867291</td>\n",
       "      <td>2.195798</td>\n",
       "      <td>716.709100</td>\n",
       "      <td>lob features input</td>\n",
       "    </tr>\n",
       "  </tbody>\n",
       "</table>\n",
       "</div>"
      ],
      "text/plain": [
       "        mae       mse      rmse      mape        mspe                 run\n",
       "0  0.614266  0.788697  0.888086  1.596915  261.610660  targets only input\n",
       "1  0.774085  1.010896  1.005433  1.494357   85.359505           TCN input\n",
       "2  0.628971  0.752193  0.867291  2.195798  716.709100  lob features input"
      ]
     },
     "execution_count": 18,
     "metadata": {},
     "output_type": "execute_result"
    }
   ],
   "source": [
    "# Autoformer metrics\n",
    "run_1_df_auto = pd.read_csv('/Users/pujanmaharjan/uni adelaide/research project/Autoformer/results_from_colab/results/run_1_Autoformer_custom_ftM_sl96_ll48_pl24_dm512_nh8_el2_dl1_df2048_fc1_ebfixed_dtTrue_Exp_0/error_metrics.csv')\n",
    "run_1_df_auto['run'] = 'targets only input'\n",
    "run_2_df_auto = pd.read_csv('/Users/pujanmaharjan/uni adelaide/research project/Autoformer/results_from_colab/results/run_2_Autoformer_custom_ftM_sl96_ll48_pl24_dm512_nh8_el2_dl1_df2048_fc1_ebfixed_dtTrue_Exp_0/error_metrics.csv')\n",
    "run_2_df_auto['run'] = 'TCN input'\n",
    "run_3_df_auto = pd.read_csv('/Users/pujanmaharjan/uni adelaide/research project/Autoformer/results_from_colab/results/run_3_Autoformer_custom_ftMS_sl96_ll48_pl24_dm512_nh8_el2_dl1_df2048_fc1_ebfixed_dtTrue_Exp_0/error_metrics.csv')\n",
    "run_3_df_auto['run'] = 'lob features input'\n",
    "autoformer_metrics_df = pd.concat([run_1_df_auto, run_2_df_auto, run_3_df_auto], ignore_index=True)\n",
    "autoformer_metrics_df"
   ]
  },
  {
   "cell_type": "code",
   "execution_count": null,
   "metadata": {},
   "outputs": [],
   "source": []
  },
  {
   "cell_type": "code",
   "execution_count": null,
   "metadata": {},
   "outputs": [],
   "source": []
  },
  {
   "cell_type": "code",
   "execution_count": null,
   "metadata": {},
   "outputs": [],
   "source": []
  },
  {
   "cell_type": "code",
   "execution_count": 2,
   "metadata": {},
   "outputs": [],
   "source": [
    "# def drawplot(epochs, train_loss, validation_loss, test_loss,title):\n",
    "#     plt.plot(epochs, train_loss, label=\"train\")\n",
    "#     plt.plot(epochs, validation_loss, label=\"validation\")\n",
    "#     plt.plot(epochs, test_loss, label=\"test\")\n",
    "#     plt.title(title)\n",
    "#     plt.legend()\n",
    "#     plt.xlabel('Epochs')\n",
    "#     plt.ylabel('Loss')\n",
    "#     plt.savefig('./dataset/' + title + '.png')\n",
    "#     plt.show()\n",
    "\n",
    "\n",
    "# # print(losses)\n",
    "# first_loss = all_losses[0]\n",
    "# print(first_loss)\n",
    "# epochs = [f['epoch'] for f in first_loss]\n",
    "# print(epochs)\n",
    "# train_losses = [f['train_loss'] for f in first_loss]\n",
    "# validation_losses = [f['validation_loss'] for f in first_loss]\n",
    "# test_losses = [f['test_loss'] for f in first_loss]\n",
    "# drawplot(epochs, train_losses, validation_losses, test_losses, 'Train loss')\n"
   ]
  }
 ],
 "metadata": {
  "kernelspec": {
   "display_name": "base",
   "language": "python",
   "name": "python3"
  },
  "language_info": {
   "codemirror_mode": {
    "name": "ipython",
    "version": 3
   },
   "file_extension": ".py",
   "mimetype": "text/x-python",
   "name": "python",
   "nbconvert_exporter": "python",
   "pygments_lexer": "ipython3",
   "version": "3.10.8"
  }
 },
 "nbformat": 4,
 "nbformat_minor": 2
}
